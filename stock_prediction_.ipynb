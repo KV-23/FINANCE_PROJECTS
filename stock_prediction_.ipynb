{
  "nbformat": 4,
  "nbformat_minor": 0,
  "metadata": {
    "colab": {
      "provenance": [],
      "authorship_tag": "ABX9TyPf9oDU/2IKb5TAVoAGRXM+",
      "include_colab_link": true
    },
    "kernelspec": {
      "name": "python3",
      "display_name": "Python 3"
    },
    "language_info": {
      "name": "python"
    }
  },
  "cells": [
    {
      "cell_type": "markdown",
      "metadata": {
        "id": "view-in-github",
        "colab_type": "text"
      },
      "source": [
        "<a href=\"https://colab.research.google.com/github/KV-23/FPR/blob/main/stock_prediction_.ipynb\" target=\"_parent\"><img src=\"https://colab.research.google.com/assets/colab-badge.svg\" alt=\"Open In Colab\"/></a>"
      ]
    },
    {
      "cell_type": "markdown",
      "source": [
        "This program will predict stock prices using ML"
      ],
      "metadata": {
        "id": "nH2Seo5yXlTu"
      }
    },
    {
      "cell_type": "code",
      "source": [
        "!pip install quandl\n",
        "import quandl\n",
        "quandl.ApiConfig.api_key = \"5skFHDPceDFrgifZwy5g\""
      ],
      "metadata": {
        "colab": {
          "base_uri": "https://localhost:8080/"
        },
        "id": "nsjYi66BZhbi",
        "outputId": "f42d2c95-e8ff-4c31-d9ef-9973df01ddce"
      },
      "execution_count": null,
      "outputs": [
        {
          "output_type": "stream",
          "name": "stdout",
          "text": [
            "Collecting quandl\n",
            "  Downloading Quandl-3.7.0-py2.py3-none-any.whl.metadata (1.3 kB)\n",
            "Requirement already satisfied: pandas>=0.14 in /usr/local/lib/python3.10/dist-packages (from quandl) (2.1.4)\n",
            "Requirement already satisfied: numpy>=1.8 in /usr/local/lib/python3.10/dist-packages (from quandl) (1.26.4)\n",
            "Requirement already satisfied: requests>=2.7.0 in /usr/local/lib/python3.10/dist-packages (from quandl) (2.31.0)\n",
            "Collecting inflection>=0.3.1 (from quandl)\n",
            "  Downloading inflection-0.5.1-py2.py3-none-any.whl.metadata (1.7 kB)\n",
            "Requirement already satisfied: python-dateutil in /usr/local/lib/python3.10/dist-packages (from quandl) (2.8.2)\n",
            "Requirement already satisfied: six in /usr/local/lib/python3.10/dist-packages (from quandl) (1.16.0)\n",
            "Requirement already satisfied: more-itertools in /usr/local/lib/python3.10/dist-packages (from quandl) (10.3.0)\n",
            "Requirement already satisfied: pytz>=2020.1 in /usr/local/lib/python3.10/dist-packages (from pandas>=0.14->quandl) (2024.1)\n",
            "Requirement already satisfied: tzdata>=2022.1 in /usr/local/lib/python3.10/dist-packages (from pandas>=0.14->quandl) (2024.1)\n",
            "Requirement already satisfied: charset-normalizer<4,>=2 in /usr/local/lib/python3.10/dist-packages (from requests>=2.7.0->quandl) (3.3.2)\n",
            "Requirement already satisfied: idna<4,>=2.5 in /usr/local/lib/python3.10/dist-packages (from requests>=2.7.0->quandl) (3.7)\n",
            "Requirement already satisfied: urllib3<3,>=1.21.1 in /usr/local/lib/python3.10/dist-packages (from requests>=2.7.0->quandl) (2.0.7)\n",
            "Requirement already satisfied: certifi>=2017.4.17 in /usr/local/lib/python3.10/dist-packages (from requests>=2.7.0->quandl) (2024.7.4)\n",
            "Downloading Quandl-3.7.0-py2.py3-none-any.whl (26 kB)\n",
            "Downloading inflection-0.5.1-py2.py3-none-any.whl (9.5 kB)\n",
            "Installing collected packages: inflection, quandl\n",
            "Successfully installed inflection-0.5.1 quandl-3.7.0\n"
          ]
        }
      ]
    },
    {
      "cell_type": "code",
      "source": [
        "#install dependancies\n",
        "import numpy as np\n",
        "from sklearn.linear_model import LinearRegression\n",
        "from sklearn.svm import SVR\n",
        "from sklearn.model_selection import train_test_split"
      ],
      "metadata": {
        "id": "P9syZ4z8XqeM"
      },
      "execution_count": null,
      "outputs": []
    },
    {
      "cell_type": "code",
      "source": [
        "#Get the stock data\n",
        "df=quandl.get(\"WIKI/FB\")\n",
        "#take a look at the data\n",
        "print(df.head())"
      ],
      "metadata": {
        "colab": {
          "base_uri": "https://localhost:8080/"
        },
        "id": "Zrw9gAWTYWZL",
        "outputId": "59865477-dde1-4d95-b19c-74e31515d4d7"
      },
      "execution_count": null,
      "outputs": [
        {
          "output_type": "stream",
          "name": "stdout",
          "text": [
            "             Open   High    Low    Close       Volume  Ex-Dividend  \\\n",
            "Date                                                                 \n",
            "2012-05-18  42.05  45.00  38.00  38.2318  573576400.0          0.0   \n",
            "2012-05-21  36.53  36.66  33.00  34.0300  168192700.0          0.0   \n",
            "2012-05-22  32.61  33.59  30.94  31.0000  101786600.0          0.0   \n",
            "2012-05-23  31.37  32.50  31.36  32.0000   73600000.0          0.0   \n",
            "2012-05-24  32.95  33.21  31.77  33.0300   50237200.0          0.0   \n",
            "\n",
            "            Split Ratio  Adj. Open  Adj. High  Adj. Low  Adj. Close  \\\n",
            "Date                                                                  \n",
            "2012-05-18          1.0      42.05      45.00     38.00     38.2318   \n",
            "2012-05-21          1.0      36.53      36.66     33.00     34.0300   \n",
            "2012-05-22          1.0      32.61      33.59     30.94     31.0000   \n",
            "2012-05-23          1.0      31.37      32.50     31.36     32.0000   \n",
            "2012-05-24          1.0      32.95      33.21     31.77     33.0300   \n",
            "\n",
            "            Adj. Volume  \n",
            "Date                     \n",
            "2012-05-18  573576400.0  \n",
            "2012-05-21  168192700.0  \n",
            "2012-05-22  101786600.0  \n",
            "2012-05-23   73600000.0  \n",
            "2012-05-24   50237200.0  \n"
          ]
        }
      ]
    },
    {
      "cell_type": "code",
      "source": [
        "#Get the adjusted close price\n",
        "df= df[['Adj. Close']]\n",
        "#see the data using df.head\n",
        "print(df.head())"
      ],
      "metadata": {
        "colab": {
          "base_uri": "https://localhost:8080/"
        },
        "id": "KFCdctIIZ6d6",
        "outputId": "361eee9d-83cb-4a5f-8229-2ec6939dbdfb"
      },
      "execution_count": null,
      "outputs": [
        {
          "output_type": "stream",
          "name": "stdout",
          "text": [
            "            Adj. Close\n",
            "Date                  \n",
            "2012-05-18     38.2318\n",
            "2012-05-21     34.0300\n",
            "2012-05-22     31.0000\n",
            "2012-05-23     32.0000\n",
            "2012-05-24     33.0300\n"
          ]
        }
      ]
    },
    {
      "cell_type": "code",
      "source": [
        "#number of days out into the future we want to predict\n",
        "forecast_out =30\n",
        "#create another column to shif the variable upwards.\n",
        "df['Prediction']=df[['Adj. Close']].shift(-forecast_out)\n",
        "#print the shifted data\n",
        "print(df.tail())"
      ],
      "metadata": {
        "colab": {
          "base_uri": "https://localhost:8080/"
        },
        "id": "6p0RayRiakRf",
        "outputId": "b5f579d7-ee99-4698-a0b1-0934fdeaa9c9"
      },
      "execution_count": null,
      "outputs": [
        {
          "output_type": "stream",
          "name": "stdout",
          "text": [
            "            Adj. Close  Prediction\n",
            "Date                              \n",
            "2018-03-21      169.39         NaN\n",
            "2018-03-22      164.89         NaN\n",
            "2018-03-23      159.39         NaN\n",
            "2018-03-26      160.06         NaN\n",
            "2018-03-27      152.19         NaN\n"
          ]
        }
      ]
    },
    {
      "cell_type": "code",
      "source": [
        "#Create the Independant dataset x\n",
        "##convert tha dataframe into a numpy array\n",
        "X= np.array(df.drop(['Prediction'],axis=1))\n",
        "#remove the last n rows\n",
        "X= X[:-forecast_out]\n",
        "print(X)"
      ],
      "metadata": {
        "id": "JesBn3-An6IO"
      },
      "execution_count": null,
      "outputs": []
    },
    {
      "cell_type": "code",
      "source": [
        "###Create the variable y dataset\n",
        "##convert the dataframe to a numpy array (All values including NaNs)\n",
        "\n",
        "y=np.array(df['Prediction'])\n",
        "## get all the y values except last n rows\n",
        "y=y[:-forecast_out]\n",
        "print(y)"
      ],
      "metadata": {
        "colab": {
          "base_uri": "https://localhost:8080/"
        },
        "id": "JKrZpsfAm-Bn",
        "outputId": "f2e79bf8-fdae-4da4-9ccb-4dea9844310d"
      },
      "execution_count": null,
      "outputs": [
        {
          "output_type": "stream",
          "name": "stdout",
          "text": [
            "[ 30.771  31.2    31.47  ... 159.39  160.06  152.19 ]\n"
          ]
        }
      ]
    },
    {
      "cell_type": "code",
      "source": [
        "#split data into 80%training and 20% testing\n",
        "x_train,x_test,y_train,y_test=train_test_split(X,y,test_size=0.2)"
      ],
      "metadata": {
        "id": "S1f45QWxoX4M"
      },
      "execution_count": null,
      "outputs": []
    },
    {
      "cell_type": "code",
      "source": [
        "svr_rbf=SVR(kernel=\"rbf\",C=1e3,gamma=0.1)\n",
        "svr_rbf.fit(x_train,y_train)"
      ],
      "metadata": {
        "colab": {
          "base_uri": "https://localhost:8080/",
          "height": 75
        },
        "id": "HNlWWRUkpvWc",
        "outputId": "7a6de7b4-a047-4203-b014-f88879a0e0d7"
      },
      "execution_count": null,
      "outputs": [
        {
          "output_type": "execute_result",
          "data": {
            "text/plain": [
              "SVR(C=1000.0, gamma=0.1)"
            ],
            "text/html": [
              "<style>#sk-container-id-1 {color: black;}#sk-container-id-1 pre{padding: 0;}#sk-container-id-1 div.sk-toggleable {background-color: white;}#sk-container-id-1 label.sk-toggleable__label {cursor: pointer;display: block;width: 100%;margin-bottom: 0;padding: 0.3em;box-sizing: border-box;text-align: center;}#sk-container-id-1 label.sk-toggleable__label-arrow:before {content: \"▸\";float: left;margin-right: 0.25em;color: #696969;}#sk-container-id-1 label.sk-toggleable__label-arrow:hover:before {color: black;}#sk-container-id-1 div.sk-estimator:hover label.sk-toggleable__label-arrow:before {color: black;}#sk-container-id-1 div.sk-toggleable__content {max-height: 0;max-width: 0;overflow: hidden;text-align: left;background-color: #f0f8ff;}#sk-container-id-1 div.sk-toggleable__content pre {margin: 0.2em;color: black;border-radius: 0.25em;background-color: #f0f8ff;}#sk-container-id-1 input.sk-toggleable__control:checked~div.sk-toggleable__content {max-height: 200px;max-width: 100%;overflow: auto;}#sk-container-id-1 input.sk-toggleable__control:checked~label.sk-toggleable__label-arrow:before {content: \"▾\";}#sk-container-id-1 div.sk-estimator input.sk-toggleable__control:checked~label.sk-toggleable__label {background-color: #d4ebff;}#sk-container-id-1 div.sk-label input.sk-toggleable__control:checked~label.sk-toggleable__label {background-color: #d4ebff;}#sk-container-id-1 input.sk-hidden--visually {border: 0;clip: rect(1px 1px 1px 1px);clip: rect(1px, 1px, 1px, 1px);height: 1px;margin: -1px;overflow: hidden;padding: 0;position: absolute;width: 1px;}#sk-container-id-1 div.sk-estimator {font-family: monospace;background-color: #f0f8ff;border: 1px dotted black;border-radius: 0.25em;box-sizing: border-box;margin-bottom: 0.5em;}#sk-container-id-1 div.sk-estimator:hover {background-color: #d4ebff;}#sk-container-id-1 div.sk-parallel-item::after {content: \"\";width: 100%;border-bottom: 1px solid gray;flex-grow: 1;}#sk-container-id-1 div.sk-label:hover label.sk-toggleable__label {background-color: #d4ebff;}#sk-container-id-1 div.sk-serial::before {content: \"\";position: absolute;border-left: 1px solid gray;box-sizing: border-box;top: 0;bottom: 0;left: 50%;z-index: 0;}#sk-container-id-1 div.sk-serial {display: flex;flex-direction: column;align-items: center;background-color: white;padding-right: 0.2em;padding-left: 0.2em;position: relative;}#sk-container-id-1 div.sk-item {position: relative;z-index: 1;}#sk-container-id-1 div.sk-parallel {display: flex;align-items: stretch;justify-content: center;background-color: white;position: relative;}#sk-container-id-1 div.sk-item::before, #sk-container-id-1 div.sk-parallel-item::before {content: \"\";position: absolute;border-left: 1px solid gray;box-sizing: border-box;top: 0;bottom: 0;left: 50%;z-index: -1;}#sk-container-id-1 div.sk-parallel-item {display: flex;flex-direction: column;z-index: 1;position: relative;background-color: white;}#sk-container-id-1 div.sk-parallel-item:first-child::after {align-self: flex-end;width: 50%;}#sk-container-id-1 div.sk-parallel-item:last-child::after {align-self: flex-start;width: 50%;}#sk-container-id-1 div.sk-parallel-item:only-child::after {width: 0;}#sk-container-id-1 div.sk-dashed-wrapped {border: 1px dashed gray;margin: 0 0.4em 0.5em 0.4em;box-sizing: border-box;padding-bottom: 0.4em;background-color: white;}#sk-container-id-1 div.sk-label label {font-family: monospace;font-weight: bold;display: inline-block;line-height: 1.2em;}#sk-container-id-1 div.sk-label-container {text-align: center;}#sk-container-id-1 div.sk-container {/* jupyter's `normalize.less` sets `[hidden] { display: none; }` but bootstrap.min.css set `[hidden] { display: none !important; }` so we also need the `!important` here to be able to override the default hidden behavior on the sphinx rendered scikit-learn.org. See: https://github.com/scikit-learn/scikit-learn/issues/21755 */display: inline-block !important;position: relative;}#sk-container-id-1 div.sk-text-repr-fallback {display: none;}</style><div id=\"sk-container-id-1\" class=\"sk-top-container\"><div class=\"sk-text-repr-fallback\"><pre>SVR(C=1000.0, gamma=0.1)</pre><b>In a Jupyter environment, please rerun this cell to show the HTML representation or trust the notebook. <br />On GitHub, the HTML representation is unable to render, please try loading this page with nbviewer.org.</b></div><div class=\"sk-container\" hidden><div class=\"sk-item\"><div class=\"sk-estimator sk-toggleable\"><input class=\"sk-toggleable__control sk-hidden--visually\" id=\"sk-estimator-id-1\" type=\"checkbox\" checked><label for=\"sk-estimator-id-1\" class=\"sk-toggleable__label sk-toggleable__label-arrow\">SVR</label><div class=\"sk-toggleable__content\"><pre>SVR(C=1000.0, gamma=0.1)</pre></div></div></div></div></div>"
            ]
          },
          "metadata": {},
          "execution_count": 19
        }
      ]
    },
    {
      "cell_type": "code",
      "source": [
        "#Testing the model : score returns the confidence of deermination of R^2 of prediction\n",
        "#The best score is 1\n",
        "svr_confidence=svr_rbf.score(x_test,y_test)\n",
        "print(\"Svr_confidence score: \",svr_confidence)"
      ],
      "metadata": {
        "colab": {
          "base_uri": "https://localhost:8080/"
        },
        "id": "igJmMuAUtoRI",
        "outputId": "465efae1-083a-4701-db67-5b0df8f1bfe9"
      },
      "execution_count": null,
      "outputs": [
        {
          "output_type": "stream",
          "name": "stdout",
          "text": [
            "Svr_confidence score:  0.9844232421473244\n"
          ]
        }
      ]
    },
    {
      "cell_type": "code",
      "source": [
        "#comparing with linear regression\n",
        "lr=LinearRegression()\n",
        "#Train the model\n",
        "lr.fit(x_train,y_train)"
      ],
      "metadata": {
        "id": "CGc3w5taudwq"
      },
      "execution_count": null,
      "outputs": []
    },
    {
      "cell_type": "code",
      "source": [
        "#Testing the model : score returns the confidence of deermination of R^2 of prediction\n",
        "#The best score is 1\n",
        "lr_confidence=lr.score(x_test,y_test)\n",
        "print(\"Lr_confidence score: \",lr_confidence)"
      ],
      "metadata": {
        "colab": {
          "base_uri": "https://localhost:8080/"
        },
        "id": "dyoJf3ZousHK",
        "outputId": "637fc199-6d0d-4bf4-d5ba-be75a2f91bcd"
      },
      "execution_count": null,
      "outputs": [
        {
          "output_type": "stream",
          "name": "stdout",
          "text": [
            "Lr_confidence score:  0.9797574226366333\n"
          ]
        }
      ]
    },
    {
      "cell_type": "code",
      "source": [
        "#set x_forecast equal to the last 30 rows of the original data (excluding the 'Prediction' column)\n",
        "x_forecast=np.array(df.drop(['Prediction'], axis=1))[-forecast_out:]\n",
        "print(x_forecast)"
      ],
      "metadata": {
        "id": "j174-yQbvLJM"
      },
      "execution_count": null,
      "outputs": []
    },
    {
      "cell_type": "code",
      "source": [
        "#lr predictions for the next \"n\" days\n",
        "lr_prediction = lr.predict(x_forecast)\n",
        "print(lr_prediction)"
      ],
      "metadata": {
        "colab": {
          "base_uri": "https://localhost:8080/"
        },
        "id": "eSGdNtbG1Ou6",
        "outputId": "787e88be-ca65-4c61-8deb-c6899ceb438b"
      },
      "execution_count": null,
      "outputs": [
        {
          "output_type": "stream",
          "name": "stdout",
          "text": [
            "[177.12925852 183.56815674 184.0129158  181.38479408 180.02019242\n",
            " 181.94074291 183.03242424 187.37893324 189.03667156 185.52913987\n",
            " 182.35517749 179.94943529 180.63679021 184.45767486 183.83096892\n",
            " 187.80347598 186.418658   189.33991637 188.86483283 185.95368261\n",
            " 188.28866768 187.95509839 189.19840213 176.53287705 172.07517829\n",
            " 173.32859019 168.77991797 163.22042971 163.89767647 155.94255417]\n"
          ]
        }
      ]
    },
    {
      "cell_type": "code",
      "source": [
        "#svr_predictions for next \"n\" days\n",
        "svr_predictions = svr_rbf.predict(x_forecast)\n",
        "print(svr_predictions)"
      ],
      "metadata": {
        "colab": {
          "base_uri": "https://localhost:8080/"
        },
        "id": "6KWFddKS1ds-",
        "outputId": "4317822d-796c-49a8-f6de-6c566393a254"
      },
      "execution_count": null,
      "outputs": [
        {
          "output_type": "stream",
          "name": "stdout",
          "text": [
            "[178.32691904 181.46732677 181.67713482 174.90804657 173.05021283\n",
            " 177.13026569 180.84858244 185.30186127 179.11318741 185.32581855\n",
            " 178.84994791 173.08966553 173.18239113 182.10548584 181.59170102\n",
            " 183.05439288 187.64989879 179.39791805 179.17873637 186.80953251\n",
            " 180.66414025 182.24435363 179.20573262 179.01814577 172.63009165\n",
            " 172.82233966 172.18964019 167.84350812 166.19386024 157.73010414]\n"
          ]
        }
      ]
    }
  ]
}