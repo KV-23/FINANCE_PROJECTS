{
  "nbformat": 4,
  "nbformat_minor": 0,
  "metadata": {
    "colab": {
      "provenance": [],
      "authorship_tag": "ABX9TyPLMU7D/xidDLPncu3Za0bN",
      "include_colab_link": true
    },
    "kernelspec": {
      "name": "python3",
      "display_name": "Python 3"
    },
    "language_info": {
      "name": "python"
    }
  },
  "cells": [
    {
      "cell_type": "markdown",
      "metadata": {
        "id": "view-in-github",
        "colab_type": "text"
      },
      "source": [
        "<a href=\"https://colab.research.google.com/github/KV-23/FINANCE_PROJECTS/blob/main/Real_time_stock_data_analyser_.ipynb\" target=\"_parent\"><img src=\"https://colab.research.google.com/assets/colab-badge.svg\" alt=\"Open In Colab\"/></a>"
      ]
    },
    {
      "cell_type": "code",
      "source": [
        "!pip install alpha_vantage\n",
        "import pandas as pd\n",
        "from alpha_vantage.timeseries import TimeSeries\n",
        "import time\n",
        "api_key='68OAXGKP3E5I3GN5'\n",
        "ts=TimeSeries(key=api_key, output_format='pandas')\n",
        "\n",
        "data,meta_data=ts.get_intraday(symbol='MSFT',interval='1min', outputsize='full')\n",
        "print(data)"
      ],
      "metadata": {
        "id": "NGar5igKEHSJ"
      },
      "execution_count": null,
      "outputs": []
    },
    {
      "cell_type": "code",
      "source": [
        "#Getting the closing stock data only\n",
        "\n",
        "close_data=data['4. close']\n",
        "print(close_data)\n",
        "\n",
        "data['percentage change']=close_data.pct_change()\n",
        "print(data[['4. close','percentage change']])\n",
        "\n",
        "for i in data['percentage change']:\n",
        "  if i>0.00015:\n",
        "    data['decision']='Sell'\n",
        "  elif i<0.0001:\n",
        "    data['decision']='Buy'\n",
        "  else:\n",
        "    data['decsion']='Hold'\n",
        "\n",
        "print(data[['4. close','percentage change','decision']])\n"
      ],
      "metadata": {
        "id": "0ZvH021bGKaI"
      },
      "execution_count": null,
      "outputs": []
    },
    {
      "cell_type": "code",
      "source": [
        "for i in data['decision']:  # Iterate directly over the 'decision' column\n",
        "  if i == 'Hold':  # Compare the value to 'Buy'\n",
        "    a += 1\n",
        "print(a)"
      ],
      "metadata": {
        "id": "E8ygkK0aJ6A6"
      },
      "execution_count": null,
      "outputs": []
    },
    {
      "cell_type": "code",
      "source": [
        "for i in data['percentage change']:\n",
        "       if i > 0.00015:\n",
        "           data['decision'] = 'Sell'\n",
        "           print(\"Setting decision to Sell for i =\", i)\n",
        "       elif i < 0:\n",
        "           data['decision'] = 'Buy'\n",
        "           print(\"Setting decision to Buy for i =\", i)\n",
        "       else:\n",
        "           data['decision'] = 'Hold'\n",
        "           print(\"Setting decision to Hold for i =\", i)"
      ],
      "metadata": {
        "id": "XvW7cyE5Kmmp"
      },
      "execution_count": null,
      "outputs": []
    },
    {
      "cell_type": "code",
      "source": [],
      "metadata": {
        "id": "wUygUGu4K0Qx"
      },
      "execution_count": null,
      "outputs": []
    }
  ]
}